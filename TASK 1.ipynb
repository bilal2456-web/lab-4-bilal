{
 "cells": [
  {
   "cell_type": "code",
   "execution_count": null,
   "id": "55606faf-6274-47d5-ac21-5ad1d981da77",
   "metadata": {},
   "outputs": [],
   "source": [
    "import pandas as pd\n",
    "\n",
    "# Sample dataset\n",
    "data = {\n",
    "    'Weather': ['Sunny', 'Sunny', 'Overcast', 'Rainy', 'Overcast', 'Rainy', 'Sunny', 'Overcast', 'Rainy', 'Overcast'],\n",
    "    'Temperature': ['Hot', 'Mild', 'Cool', 'Mild', 'Mild', 'Cool', 'Cool', 'Mild', 'Hot', 'Hot'],\n",
    "    'Play': ['No', 'Yes', 'Yes', 'No', 'Yes', 'No', 'Yes', 'Yes', 'No', 'Yes']\n",
    "}\n",
    "\n",
    "# Create a DataFrame\n",
    "df = pd.DataFrame(data)\n",
    "\n",
    "# Display the dataset\n",
    "print(\"Dataset:\")\n",
    "print(df)\n",
    "\n",
    "# Calculate prior probabilities for Play = Yes and Play = No\n",
    "p_play_yes = len(df[df['Play'] == 'Yes']) / len(df)\n",
    "p_play_no = len(df[df['Play'] == 'No']) / len(df)\n",
    "\n",
    "print(\"\\nPrior probabilities:\")\n",
    "print(f\"P(Play = Yes): {p_play_yes}\")\n",
    "print(f\"P(Play = No): {p_play_no}\")\n",
    "\n",
    "# Calculate conditional probabilities for the given conditions\n",
    "# Weather = Overcast and Temperature = Mild\n",
    "\n",
    "# P(Weather = Overcast | Play = Yes)\n",
    "p_overcast_given_yes = len(df[(df['Weather'] == 'Overcast') & (df['Play'] == 'Yes')]) / len(df[df['Play'] == 'Yes'])\n",
    "\n",
    "# P(Temperature = Mild | Play = Yes)\n",
    "p_mild_given_yes = len(df[(df['Temperature'] == 'Mild') & (df['Play'] == 'Yes')]) / len(df[df['Play'] == 'Yes'])\n",
    "\n",
    "# P(Weather = Overcast | Play = No)\n",
    "p_overcast_given_no = len(df[(df['Weather'] == 'Overcast') & (df['Play'] == 'No')]) / len(df[df['Play'] == 'No'])\n",
    "\n",
    "# P(Temperature = Mild | Play = No)\n",
    "p_mild_given_no = len(df[(df['Temperature'] == 'Mild') & (df['Play'] == 'No')]) / len(df[df['Play'] == 'No'])\n",
    "\n",
    "print(\"\\nConditional probabilities:\")\n",
    "print(f\"P(Weather = Overcast | Play = Yes): {p_overcast_given_yes}\")\n",
    "print(f\"P(Temperature = Mild | Play = Yes): {p_mild_given_yes}\")\n",
    "print(f\"P(Weather = Overcast | Play = No): {p_overcast_given_no}\")\n",
    "print(f\"P(Temperature = Mild | Play = No): {p_mild_given_no}\")\n",
    "\n",
    "# Calculate the posterior probabilities using Naïve Bayes formula\n",
    "# For Play = Yes\n",
    "p_yes_given_conditions = p_overcast_given_yes * p_mild_given_yes * p_play_yes\n",
    "\n",
    "# For Play = No\n",
    "p_no_given_conditions = p_overcast_given_no * p_mild_given_no * p_play_no\n",
    "\n",
    "print(\"\\nPosterior probabilities:\")\n",
    "print(f\"P(Play = Yes | Weather = Overcast, Temperature = Mild): {p_yes_given_conditions}\")\n",
    "print(f\"P(Play = No | Weather = Overcast, Temperature = Mild): {p_no_given_conditions}\")\n",
    "\n",
    "# Decision based on the higher posterior probability\n",
    "if p_yes_given_conditions > p_no_given_conditions:\n",
    "    prediction = \"Yes\"\n",
    "else:\n",
    "    prediction = \"No\"\n",
    "\n",
    "print(f\"\\nPrediction: Players can play? {prediction}\")\n"
   ]
  },
  {
   "cell_type": "code",
   "execution_count": null,
   "id": "d3ebcebe-40cc-4fb3-86d3-581ceda8051a",
   "metadata": {},
   "outputs": [],
   "source": [
    "import pandas as pd\n"
   ]
  }
 ],
 "metadata": {
  "kernelspec": {
   "display_name": "Python 3 (ipykernel)",
   "language": "python",
   "name": "python3"
  },
  "language_info": {
   "codemirror_mode": {
    "name": "ipython",
    "version": 3
   },
   "file_extension": ".py",
   "mimetype": "text/x-python",
   "name": "python",
   "nbconvert_exporter": "python",
   "pygments_lexer": "ipython3",
   "version": "3.12.7"
  }
 },
 "nbformat": 4,
 "nbformat_minor": 5
}
